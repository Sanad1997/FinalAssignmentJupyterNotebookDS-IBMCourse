{
 "cells": [
  {
   "cell_type": "markdown",
   "id": "4c1c1a50-f98a-447a-9bcc-8b79f8fb5793",
   "metadata": {},
   "source": [
    "In this notebook, Data Science Tools and Ecosystem are summarized.\n",
    "\n",
    "**Objectives:**\n",
    "*  List popular languages for Data Science\n",
    "*  Commonly used libraries for Data Scientists\n",
    "*  Data Science tools\n",
    "*  Arithmetic expressions\n",
    "*  Tables\n",
    "  \n",
    "Some of the popular languages that Data Scientists use are:\n",
    "1. Python\n",
    "2. R\n",
    "3. SQL\n",
    "\n",
    "Some of the commonly used libraries used by Data Scientists include:\n",
    "1. Pandas\n",
    "2. MatPlotLib\n",
    "3. Numpy\n",
    "\n",
    "| Data Science Tools |\n",
    "| --- |\n",
    "| MySQL |\n",
    "| Apache Airflow |\n",
    "| Kubernetes |\n",
    "\n",
    "### Below are a few examples of evaluating arithmetic expressions in Python\n",
    "This a simple arithmetic expression to multiply and then add integers"
   ]
  },
  {
   "cell_type": "code",
   "execution_count": 40,
   "id": "8a0512f2-e7f4-4636-8b89-34a3b0b0cb38",
   "metadata": {},
   "outputs": [
    {
     "data": {
      "text/plain": [
       "17"
      ]
     },
     "execution_count": 40,
     "metadata": {},
     "output_type": "execute_result"
    }
   ],
   "source": [
    "(3*4)+5"
   ]
  },
  {
   "cell_type": "markdown",
   "id": "ba739b07-45c6-41c3-b219-c9e4b8352b86",
   "metadata": {},
   "source": [
    "This will convert 200 minutes to hours by diving by 60"
   ]
  },
  {
   "cell_type": "code",
   "execution_count": 42,
   "id": "d3cfa72c-b4ec-4abb-b993-18d37827f760",
   "metadata": {},
   "outputs": [
    {
     "name": "stdout",
     "output_type": "stream",
     "text": [
      "3.3333333333333335\n"
     ]
    }
   ],
   "source": [
    "x=200\n",
    "y=(x/60)\n",
    "print(y)"
   ]
  },
  {
   "cell_type": "markdown",
   "id": "1ec70893-60c4-4d7f-8678-edc841a44de1",
   "metadata": {},
   "source": [
    "## Author\n",
    "Sanad"
   ]
  },
  {
   "cell_type": "code",
   "execution_count": null,
   "id": "fec0d6b1-5626-422f-b40e-a29dbd8b7343",
   "metadata": {},
   "outputs": [],
   "source": []
  }
 ],
 "metadata": {
  "kernelspec": {
   "display_name": "Python 3 (ipykernel)",
   "language": "python",
   "name": "python3"
  },
  "language_info": {
   "codemirror_mode": {
    "name": "ipython",
    "version": 3
   },
   "file_extension": ".py",
   "mimetype": "text/x-python",
   "name": "python",
   "nbconvert_exporter": "python",
   "pygments_lexer": "ipython3",
   "version": "3.12.7"
  }
 },
 "nbformat": 4,
 "nbformat_minor": 5
}
