{
 "cells": [
  {
   "cell_type": "markdown",
   "id": "8ebed709-3520-444d-9983-05dd5e1922e4",
   "metadata": {},
   "source": [
    "In this notebook, Data Science Tools and Ecosystem are summarized.\n",
    "\n",
    "**Objectives:**\n",
    "*  List popular languages for Data Science\n",
    "*  Commonly used libraries for Data Scientists\n",
    "*  Data Science tools\n",
    "*  Arithmetic expressions\n",
    "*  Tables\n",
    "  \n",
    "Some of the popular languages that Data Scientists use are:\n",
    "1. Python\n",
    "2. R\n",
    "3. SQL\n",
    "\n",
    "Some of the commonly used libraries used by Data Scientists include:\n",
    "1. Pandas\n",
    "2. MatPlotLib\n",
    "3. Numpy\n",
    "\n",
    "| Data Science Tools |\n",
    "| --- |\n",
    "| MySQL |\n",
    "| Apache Airflow |\n",
    "| Kubernetes |\n",
    "\n",
    "### Below are a few examples of evaluating arithmetic expressions in Python\n",
    "This a simple arithmetic expression to multiply and then add integers\n",
    "\n",
    "$$ x=(3*4)+5 $$\n",
    "$$ x=17 $$\n",
    "\n",
    "\n",
    "This will convert 200 minutes to hours by diving by 60\n",
    "\n",
    "$$x=200$$\\\n",
    "$$y=(x/60)$$\\\n",
    "$$y=3.333$$\n",
    "\n",
    "\n",
    "## Author\n",
    "Sanad\n"
   ]
  },
  {
   "cell_type": "markdown",
   "id": "de99e98f-2e79-427e-b7a8-f7fab75f88c9",
   "metadata": {},
   "source": []
  }
 ],
 "metadata": {
  "kernelspec": {
   "display_name": "Python 3 (ipykernel)",
   "language": "python",
   "name": "python3"
  },
  "language_info": {
   "codemirror_mode": {
    "name": "ipython",
    "version": 3
   },
   "file_extension": ".py",
   "mimetype": "text/x-python",
   "name": "python",
   "nbconvert_exporter": "python",
   "pygments_lexer": "ipython3",
   "version": "3.12.7"
  }
 },
 "nbformat": 4,
 "nbformat_minor": 5
}
